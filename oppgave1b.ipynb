{
 "cells": [
  {
   "cell_type": "markdown",
   "metadata": {},
   "source": [
    "## **Excercise 1b)**"
   ]
  },
  {
   "cell_type": "markdown",
   "metadata": {},
   "source": [
    "By inserting the definition of the canonical partition function $Z$ with the energy being equal to the potential energy $V(x)$ at the different positions, we obtain:\n",
    "\n",
    "\n",
    "$$ P(x) = \\frac{e^{-\\beta V(x)}}{Z} = \\frac{e^{-\\beta V(x)}}{e^{-\\beta V(x_0-1)} + e^{-\\beta V(x_0)} + e^{-\\beta V(x_0 +1)}}$$\n",
    "\n",
    "\n",
    "Since the probability of finding a paricle at a position $x$ must be equal to the probability of the particle moving to $x$, we find the probability of the particle moving to $x_0 - 1$:\n",
    "\n",
    "\n",
    "$$ p^-  = P(x_0-1)$$\n",
    "$$ = \\frac{e^{-\\beta V(x_0-1)}}{e^{-\\beta V(x_0-1)} + e^{-\\beta V(x_0)} + e^{-\\beta V(x_0 +1)}}$$ \n",
    "\n",
    "$$ = \\frac{1}{e^{\\beta V(x_0-1)} \\cdot [e^{-\\beta V(x_0-1)} + e^{-\\beta V(x_0)} + e^{-\\beta V(x_0 +1)}]}$$\n",
    "\n",
    "$$ = \\frac{1}{1 + e^{-\\beta [V(x_0+1) - V(x_0-1)]} + e^{-\\beta [V(x_0) - V(x_0-1)]}}$$\n",
    "\n",
    "\n",
    "By doing the same for the remaining steps $x_0$ and $x_0 + 1$, we obtain\n",
    "\n",
    "\n",
    "$$p^0 = P(X_0) = \\frac{1}{1 + e^{-\\beta [V(x_0+1) - V(x_0)]} + e^{-\\beta [V(x_0-1) - V(x_0)]}}$$\n",
    "\n",
    "$$p^+ = P(X_0+1) = \\frac{1}{1 + e^{-\\beta [V(x_0-1) - V(x_0 + 1)]} + e^{-\\beta [V(x_0) - V(x_0+1)]}} \\quad \\blacksquare$$  \n",
    "\n"
   ]
  },
  {
   "cell_type": "markdown",
   "metadata": {},
   "source": []
  }
 ],
 "metadata": {
  "language_info": {
   "name": "python"
  }
 },
 "nbformat": 4,
 "nbformat_minor": 2
}
