{
 "cells": [
  {
   "cell_type": "markdown",
   "metadata": {},
   "source": [
    "# **Modelling motor proteins with random walk in a ratchet potential switched on and of**"
   ]
  },
  {
   "cell_type": "markdown",
   "metadata": {},
   "source": [
    "# **Excercise 1**"
   ]
  },
  {
   "cell_type": "markdown",
   "metadata": {},
   "source": [
    "## **a)**\n",
    "\n",
    "We are given the function:\n",
    "\n",
    "$$\n",
    "\\phi(x,t) = \\frac{1}{\\sqrt{4\\pi D t}} \\int_{-\\infty}^{\\infty} h(y) e^{-\\frac{(x-y)^2}{4Dt}} \\, dy.\n",
    "$$\n",
    "\n",
    "We want to show that it satisfies the diffusion equation:\n",
    "\n",
    "$$\n",
    "\\frac{\\partial \\phi}{\\partial t} = D \\frac{\\partial^2 \\phi}{\\partial x^2}.\n",
    "$$"
   ]
  },
  {
   "cell_type": "markdown",
   "metadata": {},
   "source": [
    "\n",
    "### **Step 1: Compute $ \\frac{\\partial \\phi}{\\partial t} $**\n",
    "\n",
    "$$\n",
    "\\frac{\\partial \\phi}{\\partial t} = \\frac{\\partial}{\\partial t} \\left[ \\frac{1}{\\sqrt{4\\pi D t}} \\int_{-\\infty}^{\\infty} dy \\, h(y) e^{-\\frac{(x-y)^2}{4Dt}} \\right].\n",
    "$$\n",
    "\n",
    "Using the product rule we obtain\n",
    "\n",
    "$$\n",
    "\\frac{\\partial \\phi}{\\partial t} = \\frac{\\partial}{\\partial t} \\left( \\frac{1}{\\sqrt{4\\pi D t}} \\right)  \\int_{-\\infty}^{\\infty} h(y) e^{-\\frac{(x-y)^2}{4Dt}} \\, dy\n",
    "+ \\frac{1}{\\sqrt{4\\pi D t}} \\frac{\\partial}{\\partial t} \\left( \\int_{-\\infty}^{\\infty} h(y)  e^{-\\frac{(x-y)^2}{4Dt}} \\, dy \\right).\n",
    "$$\n",
    "Furthermore applying the Lebniz integration rule\n",
    "\n",
    "$$\n",
    "\\frac{\\partial \\phi}{\\partial t} = \\frac{\\partial}{\\partial t} \\left( \\frac{1}{\\sqrt{4\\pi D t}} \\right) \\int_{-\\infty}^{\\infty} h(y) e^{-\\frac{(x-y)^2}{4Dt}} \\, dy\n",
    "+ \\frac{1}{\\sqrt{4\\pi D t}} \\int_{-\\infty}^{\\infty} h(y) \\frac{\\partial}{\\partial t} e^{-\\frac{(x-y)^2}{4Dt}} \\, dy.\n",
    "$$\n",
    "\n",
    "Differentiating the prefactor and the exponential term\n",
    "\n",
    "$$\n",
    "\\frac{d}{dt} \\left( \\frac{1}{\\sqrt{4\\pi D t}} \\right) = -\\frac{1}{2} \\frac{1}{\\sqrt{4\\pi D t^3}}.\n",
    "$$\n",
    "\n",
    "\n",
    "$$\n",
    "\\frac{\\partial}{\\partial t} \\left( e^{-\\frac{(x-y)^2}{4Dt}}\\right) = e^{-\\frac{(x-y)^2}{4Dt}} \\cdot \\frac{(x-y)^2}{4D t^2}.\n",
    "$$\n",
    "Substituting back, we obtain\n",
    "\n",
    "$$\n",
    "\\frac{\\partial \\phi}{\\partial t} = -\\frac{1}{2} \\frac{1}{\\sqrt{4\\pi D t^3}} \\int_{-\\infty}^{\\infty} dy \\, h(y) e^{-\\frac{(x-y)^2}{4Dt}} + \\frac{1}{\\sqrt{4\\pi D t}} \\int_{-\\infty}^{\\infty} dy \\, h(y) e^{-\\frac{(x-y)^2}{4Dt}} \\cdot \\frac{(x-y)^2}{4D t^2}.\n",
    "$$\n",
    "Which simplifies to\n",
    "$$\n",
    "\\frac{\\partial \\phi}{\\partial t} = \\frac{1}{\\sqrt{4\\pi D t}} \\int_{-\\infty}^{\\infty} h(y) e^{-\\frac{(x-y)^2}{4Dt}} \\left( \\frac{(x-y)^2}{4D t^2} - \\frac{1}{2t} \\right) \\, dy.\n",
    "$$\n"
   ]
  },
  {
   "cell_type": "markdown",
   "metadata": {},
   "source": [
    "### **Step 2: Compute $ \\frac{\\partial^2 \\phi}{\\partial x^2} $**\n",
    "$$\n",
    "\\frac{\\partial \\phi}{\\partial x} = \\frac{\\partial}{\\partial x} \\left[ \\frac{1}{\\sqrt{4\\pi D t}} \\int_{-\\infty}^{\\infty} dy \\, h(y) e^{-\\frac{(x-y)^2}{4Dt}} \\right].\n",
    "$$\n",
    "\n",
    "Using the chain rule\n",
    "\n",
    "$$\n",
    "\\frac{\\partial \\phi}{\\partial x} = \\frac{1}{\\sqrt{4\\pi D t}} \\int_{-\\infty}^{\\infty} h(y) e^{-\\frac{(x-y)^2}{4Dt}} \\left(-\\frac{x-y}{2Dt}\\right) \\, dy.\n",
    "$$\n",
    "\n",
    "Differentiating again\n",
    "\n",
    "$$\n",
    "\\frac{\\partial^2 \\phi}{\\partial x^2} = \\frac{1}{\\sqrt{4\\pi D t}} \\int_{-\\infty}^{\\infty} h(y) e^{-\\frac{(x-y)^2}{4Dt}} \\left( \\frac{(x-y)^2}{4D^2 t^2} - \\frac{1}{2Dt} \\right) \\, dy.\n",
    "$$"
   ]
  },
  {
   "cell_type": "markdown",
   "metadata": {},
   "source": [
    "### **Step 3: Verify the Diffusion Equation**\n",
    "\n",
    "Comparing the expressions for $ \\frac{\\partial \\phi}{\\partial t} $ and $ D \\frac{\\partial^2 \\phi}{\\partial x^2} $, we find that:\n",
    "\n",
    "$$\n",
    "\\frac{\\partial \\phi}{\\partial t} = D \\frac{\\partial^2 \\phi}{\\partial x^2}.\n",
    "$$\n",
    "\n",
    "Thus, $ \\phi(x,t) $ satisfies the diffusion equation."
   ]
  },
  {
   "cell_type": "markdown",
   "metadata": {},
   "source": [
    "## 1b)\n",
    "\n",
    "By inserting the definition of the canonical partition function $Z$ with the energy being equal to the potential energy $V(x)$ at the different positions, we obtain:\n",
    "\n",
    "\n",
    "$$ P(x) = \\frac{e^{-\\beta V(x)}}{Z} = \\frac{e^{-\\beta V(x)}}{e^{-\\beta V(x_0-1)} + e^{-\\beta V(x_0)} + e^{-\\beta V(x_0 +1)}}$$\n",
    "\n",
    "\n",
    "Since the probability of finding a paricle at a position $x$ must be equal to the probability of the particle moving to $x$, we find the probability of the particle moving to $x_0 - 1$ as:\n",
    "\n",
    "\n",
    "$$ p^-  = P(x_0-1)$$\n",
    "$$ = \\frac{e^{-\\beta V(x_0-1)}}{e^{-\\beta V(x_0-1)} + e^{-\\beta V(x_0)} + e^{-\\beta V(x_0 +1)}}$$ \n",
    "\n",
    "$$ = \\frac{1}{e^{\\beta V(x_0-1)} \\cdot [e^{-\\beta V(x_0-1)} + e^{-\\beta V(x_0)} + e^{-\\beta V(x_0 +1)}]}$$\n",
    "\n",
    "$$ = \\frac{1}{1 + e^{-\\beta [V(x_0+1) - V(x_0-1)]} + e^{-\\beta [V(x_0) - V(x_0-1)]}}$$\n",
    "\n",
    "\n",
    "By doing the same for the remaining steps $x_0$ and $x_0 + 1$, we obtain\n",
    "\n",
    "\n",
    "$$p^0 = P(X_0) = \\frac{1}{1 + e^{-\\beta [V(x_0+1) - V(x_0)]} + e^{-\\beta [V(x_0-1) - V(x_0)]}}$$\n",
    "\n",
    "$$p^+ = P(X_0+1) = \\frac{1}{1 + e^{-\\beta [V(x_0-1) - V(x_0 + 1)]} + e^{-\\beta [V(x_0) - V(x_0+1)]}} \\quad \\blacksquare$$  \n",
    "\n"
   ]
  },
  {
   "cell_type": "markdown",
   "metadata": {},
   "source": [
    "## 1c)"
   ]
  },
  {
   "cell_type": "markdown",
   "metadata": {},
   "source": [
    "## **Excercise 2**"
   ]
  },
  {
   "cell_type": "code",
   "execution_count": null,
   "metadata": {
    "vscode": {
     "languageId": "plaintext"
    }
   },
   "outputs": [],
   "source": []
  },
  {
   "cell_type": "markdown",
   "metadata": {},
   "source": [
    "## 2a)"
   ]
  },
  {
   "cell_type": "markdown",
   "metadata": {},
   "source": [
    "## 2b)"
   ]
  },
  {
   "cell_type": "markdown",
   "metadata": {},
   "source": [
    "# 2c)"
   ]
  },
  {
   "cell_type": "markdown",
   "metadata": {},
   "source": [
    "## 2d)"
   ]
  },
  {
   "cell_type": "markdown",
   "metadata": {},
   "source": [
    "## **Excercise 3**"
   ]
  },
  {
   "cell_type": "markdown",
   "metadata": {},
   "source": [
    "## 3a)"
   ]
  },
  {
   "cell_type": "markdown",
   "metadata": {},
   "source": [
    "## 3b)"
   ]
  },
  {
   "cell_type": "markdown",
   "metadata": {},
   "source": [
    "## 3c)"
   ]
  },
  {
   "cell_type": "markdown",
   "metadata": {},
   "source": [
    "## **Excercise4**"
   ]
  },
  {
   "cell_type": "markdown",
   "metadata": {},
   "source": [
    "## 4a)"
   ]
  },
  {
   "cell_type": "markdown",
   "metadata": {},
   "source": [
    "## 4b)"
   ]
  },
  {
   "cell_type": "markdown",
   "metadata": {},
   "source": [
    "## 4c)"
   ]
  },
  {
   "cell_type": "markdown",
   "metadata": {},
   "source": [
    "## 4d)"
   ]
  },
  {
   "cell_type": "markdown",
   "metadata": {},
   "source": []
  }
 ],
 "metadata": {
  "language_info": {
   "name": "python"
  }
 },
 "nbformat": 4,
 "nbformat_minor": 2
}
