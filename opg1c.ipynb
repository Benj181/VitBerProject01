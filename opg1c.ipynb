{
 "cells": [
  {
   "cell_type": "markdown",
   "metadata": {},
   "source": [
    "One can see that for the boundry condition when $k_b T$ $\\gg$ $\\lvert V(x+1) - V(x) \\rvert$, each exponential term in the denominator in the three probablities {${p^+, p^0, p^-}$} goes to 1. \n",
    "\n",
    "- For $p^+$, we notice that the third term in the denominator describes the potential difference between two adjacent poential steps. Given the boundry condition, this potential difference is significantly smaller than $k_b T$. This yields an expression $e$ to the power of 0, making the exponential term go towards 1. For the second term, we notice that this describes the potential difference between $x_0-1$ and $x_0+1$, giving us the expression $\\frac {2 \\lvert V(x+1) - V(x) \\rvert} {k_b T}$ in the exponent, which will also have the term go towards 1. Resulting in the probablitiy $p^+$ going towards $\\frac 1 3$.\n",
    "\n",
    "- For $p^0$, we notice that both the exponential terms describe a potential step from $x_0$ to $±1$. Similarly for the case of $p^+$, these terms are significantly smaller than $k_b T$, making each term go towards 1, ultimately letting the probability $p^0$ go towards $\\frac 1 3$\n",
    "\n",
    "- For $p^-$, we use the same arguments as for $p^+$. The exponents in both the exponential terms are both significantly smaller than $k_b T$, which yields a $e$ to the power of 0, also giving a probability of $\\frac 1 3$.\n",
    "\n",
    "As a final remark, one may notice that the sum of each probability {${p^+, p^0, p^-}$} sums up to 1, following the law of conservation of probability."
   ]
  },
  {
   "cell_type": "markdown",
   "metadata": {},
   "source": [
    "For the case where $k_b T$ $\\ll$ $\\lvert V(x+1) - V(x) \\rvert$, we will see that one of the expressions will go to 1, while the other two expressions will die out and go towards 0"
   ]
  }
 ],
 "metadata": {
  "language_info": {
   "name": "python"
  }
 },
 "nbformat": 4,
 "nbformat_minor": 2
}
