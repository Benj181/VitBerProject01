{
 "cells": [
  {
   "cell_type": "markdown",
   "metadata": {},
   "source": [
    "One can see that for the boundry condition when $k_b T$ $\\gg$ $\\lvert V(x+1) - V(x) \\rvert$, each exponential term in the denominator in the three probablities {${p^+, p^0, p^-}$} goes to 1. \n",
    "\n",
    "- For $p^+$, we notice that the third term in the denominator describes the potential difference between two adjacent poential steps. Given the boundry condition, this potential difference is significantly smaller than $k_b T$. This yields an expression $e$ to the power of 0, making the exponential term go towards 1. For the second term, we notice that this describes the potential difference between $x_0-1$ and $x_0+1$, giving us the expression $\\frac {2 \\lvert V(x+1) - V(x) \\rvert} {k_b T}$ in the exponent, which will also have the term go towards 1. Resulting in the probablitiy $p^+$ going towards $\\frac 1 3$.\n",
    "\n",
    "- For $p^0$, we notice that both the exponential terms describe a potential step from $x_0$ to $±1$. Similarly for the case of $p^+$, these terms are significantly smaller than $k_b T$, making each term go towards 1, ultimately letting the probability $p^0$ go towards $\\frac 1 3$\n",
    "\n",
    "- For $p^-$, we use the same arguments as for $p^+$. The exponents in both the exponential terms are both significantly smaller than $k_b T$, which yields a $e$ to the power of 0, also giving a probability of $\\frac 1 3$.\n",
    "\n",
    "As a final remark, one may notice that the sum of each probability {${p^+, p^0, p^-}$} sums up to 1, following the law of conservation of probability."
   ]
  },
  {
   "cell_type": "markdown",
   "metadata": {},
   "source": [
    "For the case where $k_b T$ $\\ll$ $\\lvert V(x+1) - V(x) \\rvert$, we will see that one of the expressions will go to 1, while the other two expressions will die out and go towards 0. We consider $V(x_0-1)$, $V(x_0)$, and $V(x_0+1)$ to be respective potential steps, and will assume that $V(x_0-1)$ $\\ll$ $V(x_0)$ $\\ll$ and $V(x_0+1)$. Using this, we may examine each of the exponential terms in the three expressions:\n",
    "- For $p^+$, we notice that $V(x_0-1)-V(x_0+1)$ will yield a negative number. Using the given boundry condition, we are now considering a negative number divided by $\\beta$, a significantly smaller number. The whole term will then yield $e$ to the power of a large positive number, resulting in the term exploding towards infinity. For $V(x_0)-V(x_0+1)$, we notice that this will produce a negative number similar to the former term. However, due to the explosive growth of the exponential function, this term will be negligible. At last, the boundry condition will have $å^+$ go towards 0\n",
    "\n",
    "- For $p^0$, following the same steps as above, we notice that the denominator will quickly explode to infinity, yielding a propability of 0.\n",
    "\n",
    "- For $p^-$, we now notice that both the exponential terms, $V(x_0+1)-V(x_0-1)$ and $V(x_0)-V(x_0-1)$, have exponents yielding a positive number. This will result in both terms being raised to the power of negative infinity, making them decay quickly. This will result in $p^-$ going towards 1.\n",
    "\n",
    "Similarly to the first case, the probability is conserved."
   ]
  },
  {
   "cell_type": "markdown",
   "metadata": {},
   "source": [
    "Using an energy scale argument, we consider the two extremes described in the two boundry conditions. In one extreme, the temperature is significantly larger than the energy potentials, and as discussed above, this results in the energy potential being negligible to the probability. In the other extreme however, the temperature is significantly smaller than the potentials. As a result, the energy potential plays the dominating role for the probabability. This is assuming that the potential energy grows monotonously as $x$ goes from smaller to bigger values of $x$. However, this might not always be the case. The potential might decrease monotonously, and it might oscillate. This will however not change the proposed argument. For higher temperatures, the potential will still be negligible, while lower temperatures will have probabilities dependant on the potential differences. "
   ]
  }
 ],
 "metadata": {
  "language_info": {
   "name": "python"
  }
 },
 "nbformat": 4,
 "nbformat_minor": 2
}
