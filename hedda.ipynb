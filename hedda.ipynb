{
 "cells": [
  {
   "cell_type": "markdown",
   "metadata": {},
   "source": [
    "##oppgave 1c\n",
    "\n",
    "### First case: $k_B T$ $\\gg$ $\\lvert V(x+1) - V(x) \\rvert$\n",
    "\n",
    "When the temperature $T$ is high, the thermal energy will be greater than the difference in potential energy $x_0$ and $x_0+1$ for all $x$. It follows that $$\\frac {|V(x+1) - V(x)|}{k_BT} \\approx 0,$$ and it will always $\\approx 0$ independently from what direction $V(x)$ increases. Since the thermal energy is much greater than the difference between the potential energy at given points, all of the exponential terms in $p^+$, $p^0$ and $p^-$ equals $0$, giving the following probabilities $$p^+ = \\frac{1}{3}$$ $$p^0 = \\frac{1}{3}$$ $$p^- = \\frac{1}{3}.$$\n",
    "\n",
    "$p^+ + p^0 + p^- = 1$, hence following the law of conservation of probability.\n",
    "\n",
    "**Physical interpretation**\n",
    "\n",
    "The thermal energy is constant for a given temperature $T$. If the thermal energy is higher than the absolte value of the potential energy differences between two points, the movement of the particles will be determined by the thermal energy. The thermal energy creates a constant energy landscape, with no point $x$ having a higher or lower energy value than others. As a result, the movement of the particles will be random since there are no direction which leads to less energy.\n",
    "\n",
    "<hr>"
   ]
  },
  {
   "cell_type": "markdown",
   "metadata": {},
   "source": [
    "ta med at temperaturen er lav eller høy, og at det da er termisk eller potensiell energi."
   ]
  },
  {
   "cell_type": "markdown",
   "metadata": {},
   "source": []
  }
 ],
 "metadata": {
  "language_info": {
   "name": "python"
  }
 },
 "nbformat": 4,
 "nbformat_minor": 2
}
