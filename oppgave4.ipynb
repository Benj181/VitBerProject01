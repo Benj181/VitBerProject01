{
 "cells": [
  {
   "cell_type": "markdown",
   "metadata": {},
   "source": [
    "# 4a"
   ]
  },
  {
   "cell_type": "markdown",
   "metadata": {},
   "source": [
    "The plots above shows our simulated cycle-average of the particle current as a function of $\\alpha$, compared to the analytical model of $J_{avg}$. We observe the simulated model to be an adequate approximation to the analytical equation, although it has some noticable noise on the boundries. The adjoining plot of the deviation for each $\\alpha$ will on the other hand illustrate that the noise on the boundries are of the same magnitude as the stable parts of the simulation. "
   ]
  },
  {
   "cell_type": "markdown",
   "metadata": {},
   "source": [
    "# 4b"
   ]
  },
  {
   "cell_type": "markdown",
   "metadata": {},
   "source": [
    "The plots above again shows a numerical cycle-average of the particle current, but now as a function of $\\T_p$, compared to a analytical model."
   ]
  }
 ],
 "metadata": {
  "language_info": {
   "name": "python"
  }
 },
 "nbformat": 4,
 "nbformat_minor": 2
}
