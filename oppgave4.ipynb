{
 "cells": [
  {
   "cell_type": "markdown",
   "metadata": {},
   "source": [
    "# 4a"
   ]
  },
  {
   "cell_type": "markdown",
   "metadata": {},
   "source": [
    "The plots above shows our simulated cycle-average of the particle current as a function of $\\alpha$, compared to the analytical model of $J_{avg}$. We observe the simulated model to be an adequate approximation to the analytical equation, although it has some noticable noise on the boundries. The adjoining plot of the deviation for each $\\alpha$ will on the other hand illustrate that the noise on the boundries are of the same magnitude as the stable parts of the simulation. "
   ]
  },
  {
   "cell_type": "markdown",
   "metadata": {},
   "source": [
    "# 4b"
   ]
  },
  {
   "cell_type": "markdown",
   "metadata": {},
   "source": [
    "The plots above again shows a numerical cycle-average of the particle current, but now as a function of $T_p$, and compared to an analytical model. While observing the plot, we notice an apparant deviation between the analytical and numerical models. However, if whe consider the plot of the deviation between the two, we see that the error is of equivalent magnitude as for the previous exercise.\n",
    "\n",
    "The granular behaviour of the numerical function is a direct consequence of reducing the amount of datapoints, $T_p$, and amount of simulated particles. Looking past these aberrations, the numerical model still follows the same trend as one can see in the analytical model, while still being of same magnitude. "
   ]
  },
  {
   "cell_type": "markdown",
   "metadata": {},
   "source": [
    "# 4c "
   ]
  },
  {
   "cell_type": "markdown",
   "metadata": {},
   "source": [
    "The plots shows a analytical and numerical model of the average particle current $J_{avg}$ as a function of $\\alpha$, but evaluated for different $\\beta k$.\n",
    "\n",
    "The plots for different values of $\\beta k$ shows a significant discreptancy between the analytical and numeric models. However, we see that the two models converge as $\\alpha$ approaches $0.5$. Moreover, it's not before we let $\\beta k = 10$ before the numerical model follows the same growth trend of the analytical model around the boundries. "
   ]
  }
 ],
 "metadata": {
  "language_info": {
   "name": "python"
  }
 },
 "nbformat": 4,
 "nbformat_minor": 2
}
