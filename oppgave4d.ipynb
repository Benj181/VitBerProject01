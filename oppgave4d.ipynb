{
 "cells": [
  {
   "cell_type": "markdown",
   "metadata": {},
   "source": [
    "First off the argument assumes that the particles \"will relax towards the potential minima\", this is not true if the number of times steps in each potetial, $T_{p}$, is too small. The particles won't have time to move into the potetial minimas and the particles will not have the distrubution $\\phi(x , t=T_{p} \\cdot n) \\sim \\delta(x)$ for $n \\in \\Z$, and hence not be normal distrubuted around $x=0$.\n",
    "\n",
    "Furthermore the argument completely negelects the precence of thermal energy, which equates to assuming $\\beta = \\frac{1}{k_{b} \\cdot T}$ is sufficently large, as was shown in excerice 4c is not always true.\n",
    "\n",
    "Lastly we used a discretization of the x-axis and time steps, while the argument presented used a continuous space and time model. If $N_{x}$ becomes small these affects become more prevelent. But we did not notice these affects in excercise 4.\n"
   ]
  },
  {
   "cell_type": "markdown",
   "metadata": {},
   "source": []
  },
  {
   "cell_type": "code",
   "execution_count": null,
   "metadata": {},
   "outputs": [],
   "source": [
    "import numpy as np\n",
    "\n",
    "def deviation(f, g):\n",
    "    f = np.array(f)\n",
    "    g = np.array(g)\n",
    "\n",
    "    return np.std(f - g)"
   ]
  }
 ],
 "metadata": {
  "language_info": {
   "name": "python"
  }
 },
 "nbformat": 4,
 "nbformat_minor": 2
}
