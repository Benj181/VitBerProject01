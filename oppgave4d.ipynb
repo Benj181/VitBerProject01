{
 "cells": [
  {
   "cell_type": "markdown",
   "metadata": {},
   "source": [
    "Excerice 4d)\n",
    "Your results in 4b) and 4c) should indicate that the \"analytical argument\" presented above has some\n",
    "limitations. That is, the argument is not waterproof. Your last task in this exercise is to identify which\n",
    "parts of the argument contains implicit assumptions, and under what circumstances these assumptions\n",
    "do not hold!\n",
    "\n",
    "\n",
    "T_p, Thermal, discrecingrns"
   ]
  },
  {
   "cell_type": "markdown",
   "metadata": {},
   "source": []
  }
 ],
 "metadata": {
  "language_info": {
   "name": "python"
  }
 },
 "nbformat": 4,
 "nbformat_minor": 2
}
