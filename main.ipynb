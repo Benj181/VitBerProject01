{
 "cells": [
  {
   "cell_type": "markdown",
   "metadata": {},
   "source": [
    "# **Modelling motor proteins with random walk in a ratchet potential switched on and of**"
   ]
  },
  {
   "cell_type": "markdown",
   "metadata": {},
   "source": [
    "intro and shit"
   ]
  },
  {
   "cell_type": "markdown",
   "metadata": {},
   "source": [
    "---\n"
   ]
  },
  {
   "cell_type": "markdown",
   "metadata": {},
   "source": [
    "## **Excercise 1a)**\n",
    "We are given the function:\n",
    "\n",
    "$$\n",
    "\\phi(x,t) = \\frac{1}{\\sqrt{4\\pi D t}} \\int_{-\\infty}^{\\infty} h(y) e^{-\\frac{(x-y)^2}{4Dt}} \\, dy.\n",
    "$$\n",
    "\n",
    "We want to show that it satisfies the diffusion equation:\n",
    "\n",
    "$$\n",
    "\\frac{\\partial \\phi}{\\partial t} = D \\frac{\\partial^2 \\phi}{\\partial x^2}.\n",
    "$$\n",
    "\n"
   ]
  },
  {
   "cell_type": "markdown",
   "metadata": {},
   "source": [
    "\n",
    "### **Step 1: Compute $ \\frac{\\partial \\phi}{\\partial t} $**\n",
    "\n",
    "$$\n",
    "\\frac{\\partial \\phi}{\\partial t} = \\frac{\\partial}{\\partial t} \\left[ \\frac{1}{\\sqrt{4\\pi D t}} \\int_{-\\infty}^{\\infty} dy \\, h(y) e^{-\\frac{(x-y)^2}{4Dt}} \\right].\n",
    "$$\n",
    "\n",
    "Using the product rule we obtain\n",
    "\n",
    "$$\n",
    "\\frac{\\partial \\phi}{\\partial t} = \\frac{\\partial}{\\partial t} \\left( \\frac{1}{\\sqrt{4\\pi D t}} \\right)  \\int_{-\\infty}^{\\infty} h(y) e^{-\\frac{(x-y)^2}{4Dt}} \\, dy\n",
    "+ \\frac{1}{\\sqrt{4\\pi D t}} \\frac{\\partial}{\\partial t} \\left( \\int_{-\\infty}^{\\infty} h(y)  e^{-\\frac{(x-y)^2}{4Dt}} \\, dy \\right).\n",
    "$$\n",
    "Furthermore applying the Lebniz integration rule\n",
    "\n",
    "$$\n",
    "\\frac{\\partial \\phi}{\\partial t} = \\frac{\\partial}{\\partial t} \\left( \\frac{1}{\\sqrt{4\\pi D t}} \\right) \\int_{-\\infty}^{\\infty} h(y) e^{-\\frac{(x-y)^2}{4Dt}} \\, dy\n",
    "+ \\frac{1}{\\sqrt{4\\pi D t}} \\int_{-\\infty}^{\\infty} h(y) \\frac{\\partial}{\\partial t} e^{-\\frac{(x-y)^2}{4Dt}} \\, dy.\n",
    "$$\n",
    "\n",
    "Differentiating the prefactor and the exponential term\n",
    "\n",
    "$$\n",
    "\\frac{d}{dt} \\left( \\frac{1}{\\sqrt{4\\pi D t}} \\right) = -\\frac{1}{2} \\frac{1}{\\sqrt{4\\pi D t^3}}.\n",
    "$$\n",
    "\n",
    "\n",
    "$$\n",
    "\\frac{\\partial}{\\partial t} \\left( e^{-\\frac{(x-y)^2}{4Dt}}\\right) = e^{-\\frac{(x-y)^2}{4Dt}} \\cdot \\frac{(x-y)^2}{4D t^2}.\n",
    "$$\n",
    "Substituting back, we obtain\n",
    "\n",
    "$$\n",
    "\\frac{\\partial \\phi}{\\partial t} = -\\frac{1}{2} \\frac{1}{\\sqrt{4\\pi D t^3}} \\int_{-\\infty}^{\\infty} dy \\, h(y) e^{-\\frac{(x-y)^2}{4Dt}} + \\frac{1}{\\sqrt{4\\pi D t}} \\int_{-\\infty}^{\\infty} dy \\, h(y) e^{-\\frac{(x-y)^2}{4Dt}} \\cdot \\frac{(x-y)^2}{4D t^2}.\n",
    "$$\n",
    "Which simplifies to\n",
    "$$\n",
    "\\frac{\\partial \\phi}{\\partial t} = \\frac{1}{\\sqrt{4\\pi D t}} \\int_{-\\infty}^{\\infty} h(y) e^{-\\frac{(x-y)^2}{4Dt}} \\left( \\frac{(x-y)^2}{4D t^2} - \\frac{1}{2t} \\right) \\, dy.\n",
    "$$\n"
   ]
  },
  {
   "cell_type": "markdown",
   "metadata": {},
   "source": [
    "### **Step 2: Compute $ \\frac{\\partial^2 \\phi}{\\partial x^2} $**\n",
    "$$\n",
    "\\frac{\\partial \\phi}{\\partial x} = \\frac{\\partial}{\\partial x} \\left[ \\frac{1}{\\sqrt{4\\pi D t}} \\int_{-\\infty}^{\\infty} dy \\, h(y) e^{-\\frac{(x-y)^2}{4Dt}} \\right].\n",
    "$$\n",
    "\n",
    "Using the chain rule\n",
    "\n",
    "$$\n",
    "\\frac{\\partial \\phi}{\\partial x} = \\frac{1}{\\sqrt{4\\pi D t}} \\int_{-\\infty}^{\\infty} h(y) e^{-\\frac{(x-y)^2}{4Dt}} \\left(-\\frac{x-y}{2Dt}\\right) \\, dy.\n",
    "$$\n",
    "\n",
    "Differentiating again\n",
    "\n",
    "$$\n",
    "\\frac{\\partial^2 \\phi}{\\partial x^2} = \\frac{1}{\\sqrt{4\\pi D t}} \\int_{-\\infty}^{\\infty} h(y) e^{-\\frac{(x-y)^2}{4Dt}} \\left( \\frac{(x-y)^2}{4D^2 t^2} - \\frac{1}{2Dt} \\right) \\, dy.\n",
    "$$"
   ]
  },
  {
   "cell_type": "markdown",
   "metadata": {},
   "source": [
    "### **Step 3: Verify the Diffusion Equation**\n",
    "\n",
    "Comparing the expressions for $ \\frac{\\partial \\phi}{\\partial t} $ and $ D \\frac{\\partial^2 \\phi}{\\partial x^2} $, we find that:\n",
    "\n",
    "$$\n",
    "\\frac{\\partial \\phi}{\\partial t} = D \\frac{\\partial^2 \\phi}{\\partial x^2}.\n",
    "$$\n",
    "\n",
    "Thus, $ \\phi(x,t) $ satisfies the diffusion equation."
   ]
  },
  {
   "cell_type": "markdown",
   "metadata": {},
   "source": [
    "We know that $\\phi(x,y)$ represents a distrubution of particles along the x-axis. Furthermore, we can recognize this distrubution as a gaussian distrubution with $\\sigma = \\sqrt{2 \\cdot D\\cdot t}$ and $\\mu = y$. If we let $t \\rightarrow 0$ the distrubution goes to the dirac-delta function, $\\delta(y)$, centered on the expectation value. The physical interpretation would then be that $h(y)$ is the inital place where the particals are released at $t=0$, and since the standard deviation is time dependant, the distrubution becomes more distrubuted along the x-axis"
   ]
  },
  {
   "cell_type": "markdown",
   "metadata": {},
   "source": [
    "---"
   ]
  },
  {
   "cell_type": "markdown",
   "metadata": {},
   "source": [
    "## **Excercise 1b)**"
   ]
  },
  {
   "cell_type": "markdown",
   "metadata": {},
   "source": [
    "ting\n",
    "\n",
    "\n",
    "\n",
    "\n",
    "\n",
    "\n",
    "\n",
    "\n",
    "\n",
    "\n",
    "\n",
    "\n",
    "\n",
    "\n",
    "ting\n",
    "\n"
   ]
  },
  {
   "cell_type": "code",
   "execution_count": null,
   "metadata": {},
   "outputs": [],
   "source": [
    "import balle"
   ]
  }
 ],
 "metadata": {
  "kernelspec": {
   "display_name": "Python 3",
   "language": "python",
   "name": "python3"
  },
  "language_info": {
   "codemirror_mode": {
    "name": "ipython",
    "version": 3
   },
   "file_extension": ".py",
   "mimetype": "text/x-python",
   "name": "python",
   "nbconvert_exporter": "python",
   "pygments_lexer": "ipython3",
   "version": "3.12.8"
  }
 },
 "nbformat": 4,
 "nbformat_minor": 2
}
